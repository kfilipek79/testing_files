{
 "cells": [
  {
   "cell_type": "markdown",
   "id": "d97138ed",
   "metadata": {},
   "source": [
    "## GPT2 and GPT3 models for sentiment"
   ]
  },
  {
   "cell_type": "markdown",
   "id": "6375114e",
   "metadata": {},
   "source": [
    "##### Model: siebert\n",
    "https://huggingface.co/siebert/sentiment-roberta-large-english?text=I+like+you.+I+love+you"
   ]
  },
  {
   "cell_type": "code",
   "execution_count": 2,
   "id": "c867e014",
   "metadata": {},
   "outputs": [
    {
     "name": "stderr",
     "output_type": "stream",
     "text": [
      "Downloading: 100%|██████████████████████████████| 687/687 [00:00<00:00, 515kB/s]\n",
      "2022-11-20 16:41:09.458785: I tensorflow/core/common_runtime/pluggable_device/pluggable_device_factory.cc:305] Could not identify NUMA node of platform GPU ID 0, defaulting to 0. Your kernel may not have been built with NUMA support.\n",
      "2022-11-20 16:41:09.458940: I tensorflow/core/common_runtime/pluggable_device/pluggable_device_factory.cc:271] Created TensorFlow device (/job:localhost/replica:0/task:0/device:GPU:0 with 0 MB memory) -> physical PluggableDevice (device: 0, name: METAL, pci bus id: <undefined>)\n"
     ]
    },
    {
     "name": "stdout",
     "output_type": "stream",
     "text": [
      "Metal device set to: Apple M1 Max\n"
     ]
    },
    {
     "name": "stderr",
     "output_type": "stream",
     "text": [
      "Downloading: 100%|█████████████████████████| 1.32G/1.32G [01:19<00:00, 17.9MB/s]\n",
      "Downloading: 100%|█████████████████████████████| 256/256 [00:00<00:00, 65.8kB/s]\n",
      "Downloading: 100%|███████████████████████████| 780k/780k [00:00<00:00, 1.17MB/s]\n",
      "Downloading: 100%|████████████████████████████| 446k/446k [00:00<00:00, 574kB/s]\n",
      "Downloading: 100%|█████████████████████████████| 150/150 [00:00<00:00, 46.5kB/s]\n"
     ]
    },
    {
     "name": "stdout",
     "output_type": "stream",
     "text": [
      "[{'label': 'POSITIVE', 'score': 0.9988656044006348}]\n"
     ]
    }
   ],
   "source": [
    "from transformers import pipeline\n",
    "sentiment_analysis = pipeline(\"sentiment-analysis\",model=\"siebert/sentiment-roberta-large-english\")\n",
    "print(sentiment_analysis(\"I love this!\"))"
   ]
  },
  {
   "cell_type": "code",
   "execution_count": 10,
   "id": "afe8b4a6",
   "metadata": {},
   "outputs": [],
   "source": [
    "text = \"Crazy people with their bustards\""
   ]
  },
  {
   "cell_type": "code",
   "execution_count": 11,
   "id": "e52cc9ee",
   "metadata": {},
   "outputs": [
    {
     "name": "stdout",
     "output_type": "stream",
     "text": [
      "[{'label': 'NEGATIVE', 'score': 0.6387395858764648}]\n"
     ]
    }
   ],
   "source": [
    "print(sentiment_analysis(text))"
   ]
  },
  {
   "cell_type": "code",
   "execution_count": null,
   "id": "bafb05a6",
   "metadata": {},
   "outputs": [],
   "source": []
  }
 ],
 "metadata": {
  "kernelspec": {
   "display_name": "Python 3 (ipykernel)",
   "language": "python",
   "name": "python3"
  },
  "language_info": {
   "codemirror_mode": {
    "name": "ipython",
    "version": 3
   },
   "file_extension": ".py",
   "mimetype": "text/x-python",
   "name": "python",
   "nbconvert_exporter": "python",
   "pygments_lexer": "ipython3",
   "version": "3.9.13"
  }
 },
 "nbformat": 4,
 "nbformat_minor": 5
}
